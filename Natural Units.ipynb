{
 "cells": [
  {
   "cell_type": "code",
   "execution_count": 8,
   "id": "5aeaa50d",
   "metadata": {},
   "outputs": [],
   "source": [
    "import numpy as np"
   ]
  },
  {
   "cell_type": "markdown",
   "id": "14886fd5",
   "metadata": {},
   "source": [
    "Values to be set to 1 and the relationship between units."
   ]
  },
  {
   "cell_type": "code",
   "execution_count": 5,
   "id": "99ad5a16",
   "metadata": {},
   "outputs": [],
   "source": [
    "c = 299792458 # ms^-1\n",
    "hbar = 1.054571596e-34 # kgm^2s^-1"
   ]
  },
  {
   "cell_type": "markdown",
   "id": "c3dcc19d",
   "metadata": {},
   "source": [
    "$$\\textrm{s} = c\\times\\textrm{m}$$\n",
    "$$\\hbar\\times\\textrm{kg}=\\textrm{m}^{-2}\\textrm{s}=\\frac{c^2}{\\textrm{s}^2}\\textrm{s}\\Longrightarrow\\textrm{kg}=\\frac{c^2}{\\hbar}\\textrm{s}^{-1}$$"
   ]
  },
  {
   "cell_type": "markdown",
   "id": "668f7910",
   "metadata": {},
   "source": [
    "Write G in terms of these units."
   ]
  },
  {
   "cell_type": "code",
   "execution_count": 6,
   "id": "8523ad1a",
   "metadata": {},
   "outputs": [],
   "source": [
    "G = 6.673e-11 # m^3kg^-1s^-2"
   ]
  },
  {
   "cell_type": "markdown",
   "id": "b1a04778",
   "metadata": {},
   "source": [
    "$$\\textrm{m}^3\\textrm{kg}^{-1}\\textrm{s}^{-2}=\\frac{\\textrm{s}^3}{c^3}\\times\\frac{\\hbar c^2}{\\textrm{s}^3}\\times\\frac{1}{s^2}=\\frac{\\hbar}{c}\\times\\textrm{s}^{-2}$$"
   ]
  },
  {
   "cell_type": "markdown",
   "id": "d8692692",
   "metadata": {},
   "source": [
    "$$\\textrm{m}^3\\textrm{kg}^{-1}\\textrm{s}^{-2}=\\frac{\\textrm{s}^3}{c^3}\\times\\frac{\\hbar \\textrm{s}}{c^2}\\times\\frac{1}{s^2}=\\frac{\\hbar}{c^5}\\times\\textrm{s}^2$$"
   ]
  },
  {
   "cell_type": "code",
   "execution_count": 12,
   "id": "2690bb83",
   "metadata": {},
   "outputs": [
    {
     "data": {
      "text/plain": [
       "2.905987086097639e-87"
      ]
     },
     "execution_count": 12,
     "metadata": {},
     "output_type": "execute_result"
    }
   ],
   "source": [
    "G_N = G*hbar/c**5 # s^-2\n",
    "G_N"
   ]
  },
  {
   "cell_type": "code",
   "execution_count": 17,
   "id": "6878e8e0",
   "metadata": {},
   "outputs": [
    {
     "data": {
      "text/plain": [
       "(1.8550394930110714e+43, 3.700268427882772e+42)"
      ]
     },
     "execution_count": 17,
     "metadata": {},
     "output_type": "execute_result"
    }
   ],
   "source": [
    "_m_pl = 1/(G_N)**.5 # s\n",
    "_M_pl = m_pl/(8*np.pi)**.5 # s\n",
    "\n",
    "_m_pl, _M_pl"
   ]
  },
  {
   "cell_type": "markdown",
   "id": "80b023b0",
   "metadata": {},
   "source": [
    "Planck time..."
   ]
  },
  {
   "cell_type": "code",
   "execution_count": 18,
   "id": "a5c30bf8",
   "metadata": {},
   "outputs": [],
   "source": [
    "t_pl = 5.391247e-44"
   ]
  },
  {
   "cell_type": "code",
   "execution_count": 19,
   "id": "5bd01869",
   "metadata": {},
   "outputs": [
    {
     "data": {
      "text/plain": [
       "(1.0000976101577461, 0.19949061061017714, 0.19947114020071635)"
      ]
     },
     "execution_count": 19,
     "metadata": {},
     "output_type": "execute_result"
    }
   ],
   "source": [
    "_m_pl*t_pl, _M_pl*t_pl, 1/(8*np.pi)**.5"
   ]
  },
  {
   "cell_type": "markdown",
   "id": "d73d047a",
   "metadata": {},
   "source": [
    "What values shall M be..."
   ]
  },
  {
   "cell_type": "code",
   "execution_count": 35,
   "id": "ced5fa9f",
   "metadata": {},
   "outputs": [],
   "source": [
    "n_points = 10\n",
    "beta = np.linspace(100/n_points,100,n_points)\n",
    "M_pl = 1"
   ]
  },
  {
   "cell_type": "code",
   "execution_count": 36,
   "id": "3358e36d",
   "metadata": {},
   "outputs": [
    {
     "data": {
      "text/plain": [
       "array([0.1       , 0.05      , 0.03333333, 0.025     , 0.02      ,\n",
       "       0.01666667, 0.01428571, 0.0125    , 0.01111111, 0.01      ])"
      ]
     },
     "execution_count": 36,
     "metadata": {},
     "output_type": "execute_result"
    }
   ],
   "source": [
    "Mass = M_pl/beta\n",
    "Mass"
   ]
  },
  {
   "cell_type": "code",
   "execution_count": 37,
   "id": "a55d8921",
   "metadata": {},
   "outputs": [
    {
     "data": {
      "text/plain": [
       "array([ 10.,  20.,  30.,  40.,  50.,  60.,  70.,  80.,  90., 100.])"
      ]
     },
     "execution_count": 37,
     "metadata": {},
     "output_type": "execute_result"
    }
   ],
   "source": [
    "beta"
   ]
  },
  {
   "cell_type": "code",
   "execution_count": null,
   "id": "0914604d",
   "metadata": {},
   "outputs": [],
   "source": []
  }
 ],
 "metadata": {
  "kernelspec": {
   "display_name": "Python 3 (ipykernel)",
   "language": "python",
   "name": "python3"
  },
  "language_info": {
   "codemirror_mode": {
    "name": "ipython",
    "version": 3
   },
   "file_extension": ".py",
   "mimetype": "text/x-python",
   "name": "python",
   "nbconvert_exporter": "python",
   "pygments_lexer": "ipython3",
   "version": "3.10.5"
  }
 },
 "nbformat": 4,
 "nbformat_minor": 5
}
